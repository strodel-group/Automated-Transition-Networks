{
 "cells": [
  {
   "cell_type": "markdown",
   "metadata": {},
   "source": [
    "# Python script to create transition networks of aggregating systems"
   ]
  },
  {
   "cell_type": "markdown",
   "metadata": {},
   "source": [
    "Prerequisites are the following modules:  \n",
    "1) h5py version 2.10.0  \n",
    "2) matplotlib version 3.1.2  \n",
    "3) networkx version 2.4  \n",
    "4) mdtraj version 1.9.3"
   ]
  },
  {
   "cell_type": "markdown",
   "metadata": {},
   "source": [
    "## Input"
   ]
  },
  {
   "cell_type": "markdown",
   "metadata": {},
   "source": [
    "At first the modul \"os\" is imported to get the right path of the topology (\\*.pdb) and trajectory (\\*.trr, \\*.xtc) file. "
   ]
  },
  {
   "cell_type": "code",
   "execution_count": 24,
   "metadata": {},
   "outputs": [],
   "source": [
    "import os"
   ]
  },
  {
   "cell_type": "markdown",
   "metadata": {},
   "source": [
    "Now some user input is needed (highlighted in blue):\n",
    "\n",
    "1) Specify the <font color=blue>\"BetaVersion\" directory path</font> to enable the usage of \"BetaVersion\" as module in this script."
   ]
  },
  {
   "cell_type": "code",
   "execution_count": 25,
   "metadata": {},
   "outputs": [],
   "source": [
    "import sys\n",
    "BetaVersion_path = '/home/alex/Desktop' # User input needed\n",
    "sys.path.append(BetaVersion_path)\n",
    "import BetaVersion as bv"
   ]
  },
  {
   "cell_type": "markdown",
   "metadata": {},
   "source": [
    "2) Give the <font color=blue>path of the topology and trajectory file</font>. If these files are not located in the same directory as this script, change accordingly."
   ]
  },
  {
   "cell_type": "code",
   "execution_count": 26,
   "metadata": {},
   "outputs": [],
   "source": [
    "topology_path = os.path.join(os.getcwd(), 'ab42.pdb') # User input needed\n",
    "trajectory_path = os.path.join(os.getcwd(), 'ab42.trr') # User input needed"
   ]
  },
  {
   "cell_type": "markdown",
   "metadata": {},
   "source": [
    "3) Specify the <font color=blue>number of molecules</font> as well as the <font color=blue>number of frames</font> in your trajectory. "
   ]
  },
  {
   "cell_type": "code",
   "execution_count": 27,
   "metadata": {},
   "outputs": [],
   "source": [
    "number_of_molecules = 20 # User input needed\n",
    "number_of_frames = 11 # User input needed"
   ]
  },
  {
   "cell_type": "markdown",
   "metadata": {},
   "source": [
    "## Feature computation"
   ]
  },
  {
   "cell_type": "markdown",
   "metadata": {},
   "source": [
    "BetaVersion comes with four features:  \n",
    "1) Oligomersize  \n",
    "2) Saltbridge contacts  \n",
    "3) Hydrophobic contacts  \n",
    "4) Compactness  \n",
    "  \n",
    "For a detailed description see:  \n",
    "Pathways of Amyloid-β Aggregation Depend on Oligomer Shape  \n",
    "B. Barz, Q. Liao, B. Strodel  \n",
    "J. Am. Chem. Soc., 140: 319-327 (2018)  \n",
    "[link](https://pubs.acs.org/doi/abs/10.1021/jacs.7b10343)"
   ]
  },
  {
   "cell_type": "markdown",
   "metadata": {},
   "source": [
    "First of all the class \"Compute\" is initialized. Additional keyword arguments are the boolian Write_hdf5 (create new \\*.hdf5 file) and the integer Chunksize (loads trajectory in chunks). Then, the features are calculated (note: [Cutoff]=nm)"
   ]
  },
  {
   "cell_type": "code",
   "execution_count": 28,
   "metadata": {},
   "outputs": [
    {
     "data": {
      "text/plain": [
       "()"
      ]
     },
     "execution_count": 28,
     "metadata": {},
     "output_type": "execute_result"
    }
   ],
   "source": [
    "c = bv.Compute(Trajectory=trajectory_path, Topology=topology_path, Number_of_Molecules=number_of_molecules, Number_of_Frames=number_of_frames)\n",
    "c.Oligomersize(Cutoff=0.3)\n",
    "c.Saltbridge_Contacts(Cutoff=1.5)\n",
    "c.Hydrophobic_Contacts(Cutoff=1.0)\n",
    "c.Compactness()"
   ]
  },
  {
   "cell_type": "markdown",
   "metadata": {},
   "source": [
    "## Extract features and create gephi compatible network file"
   ]
  },
  {
   "cell_type": "code",
   "execution_count": 29,
   "metadata": {},
   "outputs": [],
   "source": [
    "r = bv.Reader(number_of_molecules, number_of_frames)\n",
    "f1 = r.Oligomersize()\n",
    "f2 = r.Saltbridge_Contacts()\n",
    "f3 = r.Hydrophobic_Contacts()\n",
    "f4 = r.Compactness()"
   ]
  },
  {
   "cell_type": "markdown",
   "metadata": {},
   "source": [
    "\"Min_Population\" writes only nodes with (population(node)/max(population)) >= Min_Population to network file. "
   ]
  },
  {
   "cell_type": "code",
   "execution_count": 30,
   "metadata": {},
   "outputs": [
    {
     "data": {
      "text/plain": [
       "({(1, 0, 0, 2): 19,\n",
       "  (1, 0, 0, 4): 19,\n",
       "  (1, 0, 0, 6): 53,\n",
       "  (1, 0, 0, 7): 10,\n",
       "  (1, 0, 0, 3): 7},\n",
       " {((1, 0, 0, 2), (1, 0, 0, 4)): 1,\n",
       "  ((1, 0, 0, 2), (1, 0, 0, 3)): 4,\n",
       "  ((1, 0, 0, 4), (1, 0, 0, 6)): 2,\n",
       "  ((1, 0, 0, 4), (1, 0, 0, 3)): 5,\n",
       "  ((1, 0, 0, 6), (1, 0, 0, 4)): 1,\n",
       "  ((1, 0, 0, 6), (1, 0, 0, 7)): 13,\n",
       "  ((1, 0, 0, 7), (1, 0, 0, 6)): 12,\n",
       "  ((1, 0, 0, 3), (1, 0, 0, 2)): 2,\n",
       "  ((1, 0, 0, 3), (1, 0, 0, 4)): 4})"
      ]
     },
     "execution_count": 30,
     "metadata": {},
     "output_type": "execute_result"
    },
    {
     "data": {
      "image/png": "[encoded data removed]",
      "text/plain": [
       "<Figure size 432x288 with 1 Axes>"
      ]
     },
     "metadata": {},
     "output_type": "display_data"
    }
   ],
   "source": [
    "r.Network_Data(f1, f2, f3, f4, Min_Population=0.1)"
   ]
  },
  {
   "cell_type": "markdown",
   "metadata": {},
   "source": [
    "The resulting \"\\*.gexf\" file can be opened and modified with gephi."
   ]
  }
 ],
 "metadata": {
  "kernelspec": {
   "display_name": "Python 3",
   "language": "python",
   "name": "python3"
  },
  "language_info": {
   "codemirror_mode": {
    "name": "ipython",
    "version": 3
   },
   "file_extension": ".py",
   "mimetype": "text/x-python",
   "name": "python",
   "nbconvert_exporter": "python",
   "pygments_lexer": "ipython3",
   "version": "3.7.3"
  }
 },
 "nbformat": 4,
 "nbformat_minor": 2
}
